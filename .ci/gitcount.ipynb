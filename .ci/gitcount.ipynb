{
 "cells": [
  {
   "cell_type": "markdown",
   "source": [
    "## `rvlib` Change Log Statistics\n",
    "\n",
    "This notebook generates the summary statistics for a package. \n",
    "\n",
    "It assumes you are running this under the `.ci` directory at the toplevel of the package\n",
    "\n"
   ],
   "metadata": {}
  },
  {
   "cell_type": "code",
   "execution_count": null,
   "source": [
    "#  get date of last tag\n",
    "from subprocess import Popen, PIPE\n",
    "x, err = Popen('git log -1 --tags --simplify-by-decoration --pretty=\"%ai\"| cat', stdin=PIPE, stdout=PIPE, stderr=PIPE, shell=True).communicate()\n",
    "start_date = x.split()[0].decode('utf-8')"
   ],
   "outputs": [],
   "metadata": {
    "execution": {
     "iopub.execute_input": "2021-07-26T23:03:32.325617Z",
     "iopub.status.busy": "2021-07-26T23:03:32.325376Z",
     "iopub.status.idle": "2021-07-26T23:03:32.597821Z",
     "shell.execute_reply": "2021-07-26T23:03:32.596840Z",
     "shell.execute_reply.started": "2021-07-26T23:03:32.325595Z"
    }
   }
  },
  {
   "cell_type": "code",
   "execution_count": null,
   "source": [
    "#  today's date\n",
    "import datetime\n",
    "release_date = str(datetime.datetime.today()).split()[0]"
   ],
   "outputs": [],
   "metadata": {
    "execution": {
     "iopub.execute_input": "2021-07-26T23:03:32.599243Z",
     "iopub.status.busy": "2021-07-26T23:03:32.599036Z",
     "iopub.status.idle": "2021-07-26T23:03:32.604888Z",
     "shell.execute_reply": "2021-07-26T23:03:32.604225Z",
     "shell.execute_reply.started": "2021-07-26T23:03:32.599222Z"
    }
   }
  },
  {
   "cell_type": "code",
   "execution_count": null,
   "source": [
    "package_name = 'rvlib'"
   ],
   "outputs": [],
   "metadata": {
    "execution": {
     "iopub.execute_input": "2021-07-26T23:03:32.606330Z",
     "iopub.status.busy": "2021-07-26T23:03:32.606014Z",
     "iopub.status.idle": "2021-07-26T23:03:32.609801Z",
     "shell.execute_reply": "2021-07-26T23:03:32.608592Z",
     "shell.execute_reply.started": "2021-07-26T23:03:32.606313Z"
    }
   }
  },
  {
   "cell_type": "markdown",
   "source": [
    "This notebook will generate a file in the current directory with the name \"changelog_VERSION.md\". You can edit and append this on front of the CHANGELOG file for the package release."
   ],
   "metadata": {}
  },
  {
   "cell_type": "code",
   "execution_count": null,
   "source": [
    "from __future__ import print_function\n",
    "import os\n",
    "import json\n",
    "import re\n",
    "import sys\n",
    "import pandas\n",
    "\n",
    "from datetime import datetime, timedelta\n",
    "from time import sleep\n",
    "from subprocess import check_output\n",
    "try:\n",
    "    from urllib import urlopen\n",
    "except:\n",
    "    from urllib.request import urlopen\n",
    "\n",
    "import ssl\n",
    "import yaml\n",
    "\n",
    "context = ssl._create_unverified_context()\n"
   ],
   "outputs": [],
   "metadata": {
    "execution": {
     "iopub.execute_input": "2021-07-26T23:03:32.611030Z",
     "iopub.status.busy": "2021-07-26T23:03:32.610835Z",
     "iopub.status.idle": "2021-07-26T23:03:33.036139Z",
     "shell.execute_reply": "2021-07-26T23:03:33.035470Z",
     "shell.execute_reply.started": "2021-07-26T23:03:32.611010Z"
    }
   }
  },
  {
   "cell_type": "code",
   "execution_count": null,
   "source": [
    "CWD = os.path.abspath(os.path.curdir)"
   ],
   "outputs": [],
   "metadata": {
    "execution": {
     "iopub.execute_input": "2021-07-26T23:03:33.040458Z",
     "iopub.status.busy": "2021-07-26T23:03:33.040210Z",
     "iopub.status.idle": "2021-07-26T23:03:33.043289Z",
     "shell.execute_reply": "2021-07-26T23:03:33.042663Z",
     "shell.execute_reply.started": "2021-07-26T23:03:33.040438Z"
    }
   }
  },
  {
   "cell_type": "code",
   "execution_count": null,
   "source": [
    "CWD"
   ],
   "outputs": [],
   "metadata": {
    "execution": {
     "iopub.execute_input": "2021-07-26T23:03:33.045913Z",
     "iopub.status.busy": "2021-07-26T23:03:33.045617Z",
     "iopub.status.idle": "2021-07-26T23:03:33.054507Z",
     "shell.execute_reply": "2021-07-26T23:03:33.053970Z",
     "shell.execute_reply.started": "2021-07-26T23:03:33.045887Z"
    }
   }
  },
  {
   "cell_type": "code",
   "execution_count": null,
   "source": [
    "since_date = '--since=\"{start}\"'.format(start=start_date)\n",
    "since_date\n",
    "since = datetime.strptime(start_date+\" 0:0:0\", \"%Y-%m-%d %H:%M:%S\")\n",
    "since"
   ],
   "outputs": [],
   "metadata": {
    "execution": {
     "iopub.execute_input": "2021-07-26T23:03:33.055709Z",
     "iopub.status.busy": "2021-07-26T23:03:33.055493Z",
     "iopub.status.idle": "2021-07-26T23:03:33.060336Z",
     "shell.execute_reply": "2021-07-26T23:03:33.059799Z",
     "shell.execute_reply.started": "2021-07-26T23:03:33.055690Z"
    }
   }
  },
  {
   "cell_type": "code",
   "execution_count": null,
   "source": [
    "# get __version__\n",
    "f = \"../{package}/version.py\".format(package=package_name)\n",
    "\n",
    "with open(f, 'r') as initfile:\n",
    "     exec(initfile.readline())\n",
    "   "
   ],
   "outputs": [],
   "metadata": {
    "execution": {
     "iopub.execute_input": "2021-07-26T23:03:33.061727Z",
     "iopub.status.busy": "2021-07-26T23:03:33.061295Z",
     "iopub.status.idle": "2021-07-26T23:03:33.066524Z",
     "shell.execute_reply": "2021-07-26T23:03:33.065859Z",
     "shell.execute_reply.started": "2021-07-26T23:03:33.061680Z"
    }
   }
  },
  {
   "cell_type": "markdown",
   "source": [
    "## Total commits by subpackage"
   ],
   "metadata": {}
  },
  {
   "cell_type": "code",
   "execution_count": null,
   "source": [
    "cmd = ['git', 'log', '--oneline', since_date]\n",
    "ncommits = len(check_output(cmd).splitlines())"
   ],
   "outputs": [],
   "metadata": {
    "execution": {
     "iopub.execute_input": "2021-07-26T23:03:33.067838Z",
     "iopub.status.busy": "2021-07-26T23:03:33.067622Z",
     "iopub.status.idle": "2021-07-26T23:03:33.118480Z",
     "shell.execute_reply": "2021-07-26T23:03:33.117350Z",
     "shell.execute_reply.started": "2021-07-26T23:03:33.067818Z"
    }
   }
  },
  {
   "cell_type": "code",
   "execution_count": null,
   "source": [
    "ncommits"
   ],
   "outputs": [],
   "metadata": {
    "execution": {
     "iopub.execute_input": "2021-07-26T23:03:33.120132Z",
     "iopub.status.busy": "2021-07-26T23:03:33.119901Z",
     "iopub.status.idle": "2021-07-26T23:03:33.123944Z",
     "shell.execute_reply": "2021-07-26T23:03:33.123247Z",
     "shell.execute_reply.started": "2021-07-26T23:03:33.120108Z"
    }
   }
  },
  {
   "cell_type": "markdown",
   "source": [
    "## List Contributors"
   ],
   "metadata": {}
  },
  {
   "cell_type": "code",
   "execution_count": null,
   "source": [
    "author_cmd = ['git', 'log', '--format=* %aN', since_date]"
   ],
   "outputs": [],
   "metadata": {
    "execution": {
     "iopub.execute_input": "2021-07-26T23:03:33.134449Z",
     "iopub.status.busy": "2021-07-26T23:03:33.134059Z",
     "iopub.status.idle": "2021-07-26T23:03:33.137246Z",
     "shell.execute_reply": "2021-07-26T23:03:33.136585Z",
     "shell.execute_reply.started": "2021-07-26T23:03:33.134425Z"
    }
   }
  },
  {
   "cell_type": "code",
   "execution_count": null,
   "source": [
    "from collections import Counter"
   ],
   "outputs": [],
   "metadata": {
    "execution": {
     "iopub.execute_input": "2021-07-26T23:03:33.138475Z",
     "iopub.status.busy": "2021-07-26T23:03:33.138178Z",
     "iopub.status.idle": "2021-07-26T23:03:33.140889Z",
     "shell.execute_reply": "2021-07-26T23:03:33.140213Z",
     "shell.execute_reply.started": "2021-07-26T23:03:33.138455Z"
    }
   }
  },
  {
   "cell_type": "code",
   "execution_count": null,
   "source": [
    "\n",
    "ncommits = len(check_output(cmd).splitlines())\n",
    "all_authors = check_output(author_cmd).splitlines()\n",
    "counter = Counter([author.decode('utf-8') for author in all_authors])\n",
    "#        global_counter += counter\n",
    "#        counters.update({'.'.join((package,subpackage)): counter})\n",
    "unique_authors = sorted(set(all_authors))\n"
   ],
   "outputs": [],
   "metadata": {
    "execution": {
     "iopub.execute_input": "2021-07-26T23:03:33.141999Z",
     "iopub.status.busy": "2021-07-26T23:03:33.141730Z",
     "iopub.status.idle": "2021-07-26T23:03:33.199583Z",
     "shell.execute_reply": "2021-07-26T23:03:33.198212Z",
     "shell.execute_reply.started": "2021-07-26T23:03:33.141978Z"
    }
   }
  },
  {
   "cell_type": "code",
   "execution_count": null,
   "source": [
    "unique_authors = counter.keys()"
   ],
   "outputs": [],
   "metadata": {
    "execution": {
     "iopub.execute_input": "2021-07-26T23:03:33.201226Z",
     "iopub.status.busy": "2021-07-26T23:03:33.200994Z",
     "iopub.status.idle": "2021-07-26T23:03:33.205053Z",
     "shell.execute_reply": "2021-07-26T23:03:33.204022Z",
     "shell.execute_reply.started": "2021-07-26T23:03:33.201202Z"
    }
   }
  },
  {
   "cell_type": "code",
   "execution_count": null,
   "source": [
    "unique_authors"
   ],
   "outputs": [],
   "metadata": {
    "execution": {
     "iopub.execute_input": "2021-07-26T23:03:33.206463Z",
     "iopub.status.busy": "2021-07-26T23:03:33.206247Z",
     "iopub.status.idle": "2021-07-26T23:03:33.211326Z",
     "shell.execute_reply": "2021-07-26T23:03:33.210741Z",
     "shell.execute_reply.started": "2021-07-26T23:03:33.206443Z"
    }
   }
  },
  {
   "cell_type": "markdown",
   "source": [
    "## Disaggregate by PR, Issue"
   ],
   "metadata": {}
  },
  {
   "cell_type": "code",
   "execution_count": null,
   "source": [
    "from datetime import datetime, timedelta\n",
    "ISO8601 = \"%Y-%m-%dT%H:%M:%SZ\"\n",
    "PER_PAGE = 100\n",
    "element_pat = re.compile(r'<(.+?)>')\n",
    "rel_pat = re.compile(r'rel=[\\'\"](\\w+)[\\'\"]')\n"
   ],
   "outputs": [],
   "metadata": {
    "execution": {
     "iopub.execute_input": "2021-07-26T23:03:33.212571Z",
     "iopub.status.busy": "2021-07-26T23:03:33.212303Z",
     "iopub.status.idle": "2021-07-26T23:03:33.217854Z",
     "shell.execute_reply": "2021-07-26T23:03:33.217238Z",
     "shell.execute_reply.started": "2021-07-26T23:03:33.212547Z"
    }
   }
  },
  {
   "cell_type": "code",
   "execution_count": null,
   "source": [
    "\n",
    "def parse_link_header(headers):\n",
    "    link_s = headers.get('link', '')\n",
    "    urls = element_pat.findall(link_s)\n",
    "    rels = rel_pat.findall(link_s)\n",
    "    d = {}\n",
    "    for rel,url in zip(rels, urls):\n",
    "        d[rel] = url\n",
    "    return d\n",
    "\n",
    "def get_paged_request(url):\n",
    "    \"\"\"get a full list, handling APIv3's paging\"\"\"\n",
    "    results = []\n",
    "    while url:\n",
    "        #print(\"fetching %s\" % url, file=sys.stderr)\n",
    "        f = urlopen(url)\n",
    "        results.extend(json.load(f))\n",
    "        links = parse_link_header(f.headers)\n",
    "        url = links.get('next')\n",
    "    return results\n",
    "\n",
    "def get_issues(project=\"QuantEcon/rvlib\", state=\"closed\", pulls=False):\n",
    "    \"\"\"Get a list of the issues from the Github API.\"\"\"\n",
    "    which = 'pulls' if pulls else 'issues'\n",
    "    url = \"https://api.github.com/repos/%s/%s?state=%s&per_page=%i\" % (project, which, state, PER_PAGE)\n",
    "    return get_paged_request(url)\n",
    "\n",
    "\n",
    "def _parse_datetime(s):\n",
    "    \"\"\"Parse dates in the format returned by the Github API.\"\"\"\n",
    "    if s:\n",
    "        return datetime.strptime(s, ISO8601)\n",
    "    else:\n",
    "        return datetime.fromtimestamp(0)\n",
    "\n",
    "\n",
    "def issues2dict(issues):\n",
    "    \"\"\"Convert a list of issues to a dict, keyed by issue number.\"\"\"\n",
    "    idict = {}\n",
    "    for i in issues:\n",
    "        idict[i['number']] = i\n",
    "    return idict\n",
    "\n",
    "\n",
    "def is_pull_request(issue):\n",
    "    \"\"\"Return True if the given issue is a pull request.\"\"\"\n",
    "    return 'pull_request_url' in issue\n",
    "\n",
    "\n",
    "def issues_closed_since(period=timedelta(days=365), project=\"QuantEcon/rvlib\", pulls=False):\n",
    "    \"\"\"Get all issues closed since a particular point in time. period\n",
    "can either be a datetime object, or a timedelta object. In the\n",
    "latter case, it is used as a time before the present.\"\"\"\n",
    "\n",
    "    which = 'pulls' if pulls else 'issues'\n",
    "\n",
    "    if isinstance(period, timedelta):\n",
    "        period = datetime.now() - period\n",
    "    url = \"https://api.github.com/repos/%s/%s?state=closed&sort=updated&since=%s&per_page=%i\" % (project, which, period.strftime(ISO8601), PER_PAGE)\n",
    "    allclosed = get_paged_request(url)\n",
    "    # allclosed = get_issues(project=project, state='closed', pulls=pulls, since=period)\n",
    "    filtered = [i for i in allclosed if _parse_datetime(i['closed_at']) > period]\n",
    "\n",
    "    # exclude rejected PRs\n",
    "    if pulls:\n",
    "        filtered = [ pr for pr in filtered if pr['merged_at'] ]\n",
    "\n",
    "    return filtered\n",
    "\n",
    "\n",
    "def sorted_by_field(issues, field='closed_at', reverse=False):\n",
    "    \"\"\"Return a list of issues sorted by closing date date.\"\"\"\n",
    "    return sorted(issues, key = lambda i:i[field], reverse=reverse)\n",
    "\n",
    "\n",
    "def report(issues, show_urls=False):\n",
    "    \"\"\"Summary report about a list of issues, printing number and title.\n",
    "    \"\"\"\n",
    "    # titles may have unicode in them, so we must encode everything below\n",
    "    if show_urls:\n",
    "        for i in issues:\n",
    "            role = 'ghpull' if 'merged_at' in i else 'ghissue'\n",
    "            print('* :%s:`%d`: %s' % (role, i['number'],\n",
    "                                        i['title'].encode('utf-8')))\n",
    "    else:\n",
    "        for i in issues:\n",
    "            print('* %d: %s' % (i['number'], i['title'].encode('utf-8')))\n",
    "\n"
   ],
   "outputs": [],
   "metadata": {
    "execution": {
     "iopub.execute_input": "2021-07-26T23:03:33.219072Z",
     "iopub.status.busy": "2021-07-26T23:03:33.218860Z",
     "iopub.status.idle": "2021-07-26T23:03:33.232593Z",
     "shell.execute_reply": "2021-07-26T23:03:33.231574Z",
     "shell.execute_reply.started": "2021-07-26T23:03:33.219051Z"
    }
   }
  },
  {
   "cell_type": "code",
   "execution_count": null,
   "source": [
    "\n",
    "all_issues = {}\n",
    "all_pulls = {}\n",
    "total_commits = 0\n",
    "#prj='pysal/libpysal'\n",
    "prj = 'QuantEcon/rvlib'\n",
    "issues = issues_closed_since(since, project=prj,pulls=False)\n",
    "pulls = issues_closed_since(since, project=prj,pulls=True)\n",
    "issues = sorted_by_field(issues, reverse=True)\n",
    "pulls = sorted_by_field(pulls, reverse=True)\n",
    "n_issues, n_pulls = map(len, (issues, pulls))\n",
    "n_total = n_issues + n_pulls\n"
   ],
   "outputs": [],
   "metadata": {
    "execution": {
     "iopub.execute_input": "2021-07-26T23:03:33.234112Z",
     "iopub.status.busy": "2021-07-26T23:03:33.233826Z",
     "iopub.status.idle": "2021-07-26T23:03:41.419941Z",
     "shell.execute_reply": "2021-07-26T23:03:41.418651Z",
     "shell.execute_reply.started": "2021-07-26T23:03:33.234091Z"
    }
   }
  },
  {
   "cell_type": "code",
   "execution_count": null,
   "source": [
    "issue_listing = []\n",
    "for issue in issues:\n",
    "    entry = \"{title} (#{number})\".format(title=issue['title'],number=issue['number'])\n",
    "    issue_listing.append(entry)"
   ],
   "outputs": [],
   "metadata": {
    "execution": {
     "iopub.execute_input": "2021-07-26T23:03:41.421686Z",
     "iopub.status.busy": "2021-07-26T23:03:41.421350Z",
     "iopub.status.idle": "2021-07-26T23:03:41.426221Z",
     "shell.execute_reply": "2021-07-26T23:03:41.425460Z",
     "shell.execute_reply.started": "2021-07-26T23:03:41.421654Z"
    }
   }
  },
  {
   "cell_type": "code",
   "execution_count": null,
   "source": [
    "pull_listing = []\n",
    "for pull in pulls:\n",
    "    entry = \"{title} (#{number})\".format(title=pull['title'],number=pull['number'])\n",
    "    pull_listing.append(entry)"
   ],
   "outputs": [],
   "metadata": {
    "execution": {
     "iopub.execute_input": "2021-07-26T23:03:41.427593Z",
     "iopub.status.busy": "2021-07-26T23:03:41.427316Z",
     "iopub.status.idle": "2021-07-26T23:03:41.431489Z",
     "shell.execute_reply": "2021-07-26T23:03:41.430737Z",
     "shell.execute_reply.started": "2021-07-26T23:03:41.427571Z"
    }
   }
  },
  {
   "cell_type": "code",
   "execution_count": null,
   "source": [
    "pull_listing"
   ],
   "outputs": [],
   "metadata": {
    "execution": {
     "iopub.execute_input": "2021-07-26T23:03:41.432740Z",
     "iopub.status.busy": "2021-07-26T23:03:41.432525Z",
     "iopub.status.idle": "2021-07-26T23:03:41.436418Z",
     "shell.execute_reply": "2021-07-26T23:03:41.435774Z",
     "shell.execute_reply.started": "2021-07-26T23:03:41.432720Z"
    }
   }
  },
  {
   "cell_type": "code",
   "execution_count": null,
   "source": [
    "message = \"We closed a total of {total} issues (enhancements and bug fixes) through {pr} pull requests\".format(total=n_total, pr=n_pulls)"
   ],
   "outputs": [],
   "metadata": {
    "execution": {
     "iopub.execute_input": "2021-07-26T23:03:41.443185Z",
     "iopub.status.busy": "2021-07-26T23:03:41.442942Z",
     "iopub.status.idle": "2021-07-26T23:03:41.446459Z",
     "shell.execute_reply": "2021-07-26T23:03:41.445780Z",
     "shell.execute_reply.started": "2021-07-26T23:03:41.443165Z"
    }
   }
  },
  {
   "cell_type": "code",
   "execution_count": null,
   "source": [
    "message = \"{msg}, since our last release on {previous}.\".format(msg=message, previous=str(start_date))\n"
   ],
   "outputs": [],
   "metadata": {
    "execution": {
     "iopub.execute_input": "2021-07-26T23:03:41.450500Z",
     "iopub.status.busy": "2021-07-26T23:03:41.450220Z",
     "iopub.status.idle": "2021-07-26T23:03:41.453822Z",
     "shell.execute_reply": "2021-07-26T23:03:41.452743Z",
     "shell.execute_reply.started": "2021-07-26T23:03:41.450475Z"
    }
   }
  },
  {
   "cell_type": "code",
   "execution_count": null,
   "source": [
    "message"
   ],
   "outputs": [],
   "metadata": {
    "execution": {
     "iopub.execute_input": "2021-07-26T23:03:41.455336Z",
     "iopub.status.busy": "2021-07-26T23:03:41.455113Z",
     "iopub.status.idle": "2021-07-26T23:03:41.508968Z",
     "shell.execute_reply": "2021-07-26T23:03:41.508206Z",
     "shell.execute_reply.started": "2021-07-26T23:03:41.455315Z"
    }
   }
  },
  {
   "cell_type": "code",
   "execution_count": null,
   "source": [
    "message += \"\\n\\n## Issues Closed\\n\""
   ],
   "outputs": [],
   "metadata": {
    "execution": {
     "iopub.execute_input": "2021-07-26T23:03:41.510381Z",
     "iopub.status.busy": "2021-07-26T23:03:41.510129Z",
     "iopub.status.idle": "2021-07-26T23:03:41.535471Z",
     "shell.execute_reply": "2021-07-26T23:03:41.534304Z",
     "shell.execute_reply.started": "2021-07-26T23:03:41.510358Z"
    }
   }
  },
  {
   "cell_type": "code",
   "execution_count": null,
   "source": [
    "print(message)"
   ],
   "outputs": [],
   "metadata": {
    "execution": {
     "iopub.execute_input": "2021-07-26T23:03:41.538524Z",
     "iopub.status.busy": "2021-07-26T23:03:41.537851Z",
     "iopub.status.idle": "2021-07-26T23:03:41.542892Z",
     "shell.execute_reply": "2021-07-26T23:03:41.541762Z",
     "shell.execute_reply.started": "2021-07-26T23:03:41.538451Z"
    }
   }
  },
  {
   "cell_type": "code",
   "execution_count": null,
   "source": [
    "issues = \"\\n\".join([\"  - \"+issue for issue in issue_listing])\n",
    "message += issues\n",
    "message += \"\\n\\n## Pull Requests\\n\"\n",
    "pulls = \"\\n\".join([\"  - \"+pull for pull in pull_listing])\n",
    "message += pulls"
   ],
   "outputs": [],
   "metadata": {
    "execution": {
     "iopub.execute_input": "2021-07-26T23:03:41.544340Z",
     "iopub.status.busy": "2021-07-26T23:03:41.544032Z",
     "iopub.status.idle": "2021-07-26T23:03:41.547722Z",
     "shell.execute_reply": "2021-07-26T23:03:41.547091Z",
     "shell.execute_reply.started": "2021-07-26T23:03:41.544319Z"
    }
   }
  },
  {
   "cell_type": "code",
   "execution_count": null,
   "source": [
    "print(message)"
   ],
   "outputs": [],
   "metadata": {
    "execution": {
     "iopub.execute_input": "2021-07-26T23:03:41.548864Z",
     "iopub.status.busy": "2021-07-26T23:03:41.548644Z",
     "iopub.status.idle": "2021-07-26T23:03:41.551845Z",
     "shell.execute_reply": "2021-07-26T23:03:41.551139Z",
     "shell.execute_reply.started": "2021-07-26T23:03:41.548841Z"
    }
   }
  },
  {
   "cell_type": "code",
   "execution_count": null,
   "source": [
    "people = \"\\n\".join([\"  - \"+person for person in unique_authors])"
   ],
   "outputs": [],
   "metadata": {
    "execution": {
     "iopub.execute_input": "2021-07-26T23:03:41.553073Z",
     "iopub.status.busy": "2021-07-26T23:03:41.552847Z",
     "iopub.status.idle": "2021-07-26T23:03:41.556106Z",
     "shell.execute_reply": "2021-07-26T23:03:41.555416Z",
     "shell.execute_reply.started": "2021-07-26T23:03:41.553053Z"
    }
   }
  },
  {
   "cell_type": "code",
   "execution_count": null,
   "source": [
    "print(people)"
   ],
   "outputs": [],
   "metadata": {
    "execution": {
     "iopub.execute_input": "2021-07-26T23:03:41.557434Z",
     "iopub.status.busy": "2021-07-26T23:03:41.557118Z",
     "iopub.status.idle": "2021-07-26T23:03:41.562401Z",
     "shell.execute_reply": "2021-07-26T23:03:41.561605Z",
     "shell.execute_reply.started": "2021-07-26T23:03:41.557408Z"
    }
   }
  },
  {
   "cell_type": "code",
   "execution_count": null,
   "source": [
    "message +=\"\\n\\nThe following individuals contributed to this release:\\n\\n{people}\".format(people=people)"
   ],
   "outputs": [],
   "metadata": {
    "execution": {
     "iopub.execute_input": "2021-07-26T23:03:41.563666Z",
     "iopub.status.busy": "2021-07-26T23:03:41.563447Z",
     "iopub.status.idle": "2021-07-26T23:03:41.567247Z",
     "shell.execute_reply": "2021-07-26T23:03:41.566579Z",
     "shell.execute_reply.started": "2021-07-26T23:03:41.563645Z"
    }
   }
  },
  {
   "cell_type": "code",
   "execution_count": null,
   "source": [
    "print(message)"
   ],
   "outputs": [],
   "metadata": {
    "execution": {
     "iopub.execute_input": "2021-07-26T23:03:41.568432Z",
     "iopub.status.busy": "2021-07-26T23:03:41.568157Z",
     "iopub.status.idle": "2021-07-26T23:03:41.589337Z",
     "shell.execute_reply": "2021-07-26T23:03:41.588766Z",
     "shell.execute_reply.started": "2021-07-26T23:03:41.568411Z"
    }
   }
  },
  {
   "cell_type": "code",
   "execution_count": null,
   "source": [
    "import rvlib\n",
    "v = rvlib.__version__"
   ],
   "outputs": [],
   "metadata": {}
  },
  {
   "cell_type": "code",
   "execution_count": null,
   "source": [
    "head = \"# Changes\\n\\nVersion {version} ({release_date})\\n\\n\".format(version=v, release_date=release_date)"
   ],
   "outputs": [],
   "metadata": {
    "execution": {
     "iopub.execute_input": "2021-07-26T23:03:41.590586Z",
     "iopub.status.busy": "2021-07-26T23:03:41.590365Z",
     "iopub.status.idle": "2021-07-26T23:03:41.593793Z",
     "shell.execute_reply": "2021-07-26T23:03:41.593125Z",
     "shell.execute_reply.started": "2021-07-26T23:03:41.590565Z"
    }
   }
  },
  {
   "cell_type": "code",
   "execution_count": null,
   "source": [
    "print(head+message)"
   ],
   "outputs": [],
   "metadata": {
    "execution": {
     "iopub.execute_input": "2021-07-26T23:03:41.595023Z",
     "iopub.status.busy": "2021-07-26T23:03:41.594733Z",
     "iopub.status.idle": "2021-07-26T23:03:41.598299Z",
     "shell.execute_reply": "2021-07-26T23:03:41.597726Z",
     "shell.execute_reply.started": "2021-07-26T23:03:41.594981Z"
    }
   }
  },
  {
   "cell_type": "code",
   "execution_count": null,
   "source": [
    "outfile = 'changelog.md'\n",
    "with open(outfile, 'w') as of:\n",
    "    of.write(head+message)"
   ],
   "outputs": [],
   "metadata": {
    "execution": {
     "iopub.execute_input": "2021-07-26T23:03:41.599480Z",
     "iopub.status.busy": "2021-07-26T23:03:41.599275Z",
     "iopub.status.idle": "2021-07-26T23:03:41.662241Z",
     "shell.execute_reply": "2021-07-26T23:03:41.661220Z",
     "shell.execute_reply.started": "2021-07-26T23:03:41.599460Z"
    }
   }
  },
  {
   "cell_type": "code",
   "execution_count": null,
   "source": [],
   "outputs": [],
   "metadata": {}
  },
  {
   "cell_type": "code",
   "execution_count": null,
   "source": [],
   "outputs": [],
   "metadata": {}
  },
  {
   "cell_type": "code",
   "execution_count": null,
   "source": [],
   "outputs": [],
   "metadata": {}
  }
 ],
 "metadata": {
  "kernelspec": {
   "name": "python3",
   "display_name": "Python 3.7.10 64-bit ('rvlib': conda)"
  },
  "language_info": {
   "codemirror_mode": {
    "name": "ipython",
    "version": 3
   },
   "file_extension": ".py",
   "mimetype": "text/x-python",
   "name": "python",
   "nbconvert_exporter": "python",
   "pygments_lexer": "ipython3",
   "version": "3.7.10"
  },
  "widgets": {
   "application/vnd.jupyter.widget-state+json": {
    "state": {},
    "version_major": 2,
    "version_minor": 0
   }
  },
  "interpreter": {
   "hash": "5c9cacb456a9600a48d0ed11452e8e63084e44a4bcf10c5bdb119c1d77bb24da"
  }
 },
 "nbformat": 4,
 "nbformat_minor": 4
}